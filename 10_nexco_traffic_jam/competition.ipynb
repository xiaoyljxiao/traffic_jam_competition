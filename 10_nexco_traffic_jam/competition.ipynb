{
 "cells": [
  {
   "cell_type": "code",
   "execution_count": 14,
   "metadata": {},
   "outputs": [],
   "source": [
    "# ファイル編集テスト\n",
    "import pandas as pd\n",
    "import numpy as np"
   ]
  },
  {
   "cell_type": "code",
   "execution_count": 15,
   "metadata": {},
   "outputs": [
    {
     "data": {
      "text/plain": [
       "5800080"
      ]
     },
     "execution_count": 15,
     "metadata": {},
     "output_type": "execute_result"
    }
   ],
   "source": [
    "torakan_base_data = pd.read_csv('data/train.csv')\n",
    "len(torakan_base_data)\n"
   ]
  },
  {
   "cell_type": "code",
   "execution_count": 16,
   "metadata": {},
   "outputs": [
    {
     "data": {
      "text/html": [
       "<div>\n",
       "<style scoped>\n",
       "    .dataframe tbody tr th:only-of-type {\n",
       "        vertical-align: middle;\n",
       "    }\n",
       "\n",
       "    .dataframe tbody tr th {\n",
       "        vertical-align: top;\n",
       "    }\n",
       "\n",
       "    .dataframe thead th {\n",
       "        text-align: right;\n",
       "    }\n",
       "</style>\n",
       "<table border=\"1\" class=\"dataframe\">\n",
       "  <thead>\n",
       "    <tr style=\"text-align: right;\">\n",
       "      <th></th>\n",
       "      <th>datetime</th>\n",
       "      <th>start_code</th>\n",
       "      <th>end_code</th>\n",
       "      <th>KP</th>\n",
       "      <th>OCC</th>\n",
       "      <th>allCars</th>\n",
       "      <th>speed</th>\n",
       "      <th>is_congestion</th>\n",
       "    </tr>\n",
       "  </thead>\n",
       "  <tbody>\n",
       "    <tr>\n",
       "      <th>49995</th>\n",
       "      <td>2022-01-26 03:00:00</td>\n",
       "      <td>1800006</td>\n",
       "      <td>1110210</td>\n",
       "      <td>3.9</td>\n",
       "      <td>1.916667</td>\n",
       "      <td>438</td>\n",
       "      <td>70.829157</td>\n",
       "      <td>0</td>\n",
       "    </tr>\n",
       "    <tr>\n",
       "      <th>49996</th>\n",
       "      <td>2022-01-26 04:00:00</td>\n",
       "      <td>1800006</td>\n",
       "      <td>1110210</td>\n",
       "      <td>3.9</td>\n",
       "      <td>2.166667</td>\n",
       "      <td>572</td>\n",
       "      <td>72.670157</td>\n",
       "      <td>0</td>\n",
       "    </tr>\n",
       "    <tr>\n",
       "      <th>49997</th>\n",
       "      <td>2022-01-26 05:00:00</td>\n",
       "      <td>1800006</td>\n",
       "      <td>1110210</td>\n",
       "      <td>3.9</td>\n",
       "      <td>5.833333</td>\n",
       "      <td>1905</td>\n",
       "      <td>75.196747</td>\n",
       "      <td>0</td>\n",
       "    </tr>\n",
       "    <tr>\n",
       "      <th>49998</th>\n",
       "      <td>2022-01-26 06:00:00</td>\n",
       "      <td>1800006</td>\n",
       "      <td>1110210</td>\n",
       "      <td>3.9</td>\n",
       "      <td>7.416667</td>\n",
       "      <td>2706</td>\n",
       "      <td>73.708903</td>\n",
       "      <td>0</td>\n",
       "    </tr>\n",
       "    <tr>\n",
       "      <th>49999</th>\n",
       "      <td>2022-01-26 07:00:00</td>\n",
       "      <td>1800006</td>\n",
       "      <td>1110210</td>\n",
       "      <td>3.9</td>\n",
       "      <td>7.250000</td>\n",
       "      <td>2646</td>\n",
       "      <td>73.690593</td>\n",
       "      <td>0</td>\n",
       "    </tr>\n",
       "  </tbody>\n",
       "</table>\n",
       "</div>"
      ],
      "text/plain": [
       "                  datetime  start_code  end_code   KP       OCC  allCars  \\\n",
       "49995  2022-01-26 03:00:00     1800006   1110210  3.9  1.916667      438   \n",
       "49996  2022-01-26 04:00:00     1800006   1110210  3.9  2.166667      572   \n",
       "49997  2022-01-26 05:00:00     1800006   1110210  3.9  5.833333     1905   \n",
       "49998  2022-01-26 06:00:00     1800006   1110210  3.9  7.416667     2706   \n",
       "49999  2022-01-26 07:00:00     1800006   1110210  3.9  7.250000     2646   \n",
       "\n",
       "           speed  is_congestion  \n",
       "49995  70.829157              0  \n",
       "49996  72.670157              0  \n",
       "49997  75.196747              0  \n",
       "49998  73.708903              0  \n",
       "49999  73.690593              0  "
      ]
     },
     "execution_count": 16,
     "metadata": {},
     "output_type": "execute_result"
    }
   ],
   "source": [
    "# 前処理に時間がかかるから、まずは50000データのみで前処理手順を確立させる\n",
    "# スライスだとcopy()をつけないと警告が出まくるのでつけている。\n",
    "torakan_data = torakan_base_data[:50000].copy()\n",
    "torakan_data.tail()"
   ]
  },
  {
   "cell_type": "code",
   "execution_count": 17,
   "metadata": {},
   "outputs": [
    {
     "data": {
      "text/plain": [
       "datetime          object\n",
       "start_code         int64\n",
       "end_code           int64\n",
       "KP               float64\n",
       "OCC              float64\n",
       "allCars            int64\n",
       "speed            float64\n",
       "is_congestion      int64\n",
       "dtype: object"
      ]
     },
     "execution_count": 17,
     "metadata": {},
     "output_type": "execute_result"
    }
   ],
   "source": [
    "torakan_data.dtypes"
   ]
  },
  {
   "cell_type": "code",
   "execution_count": 18,
   "metadata": {},
   "outputs": [
    {
     "name": "stdout",
     "output_type": "stream",
     "text": [
      "324\n"
     ]
    },
    {
     "data": {
      "text/plain": [
       "324"
      ]
     },
     "execution_count": 18,
     "metadata": {},
     "output_type": "execute_result"
    }
   ],
   "source": [
    "# is_congestionとspeedが実質同じものであることの確認\n",
    "tmp = torakan_data[torakan_data['speed'] < 40.0]\n",
    "print(len(tmp))\n",
    "tmp['is_congestion'].sum()"
   ]
  },
  {
   "cell_type": "code",
   "execution_count": 19,
   "metadata": {},
   "outputs": [
    {
     "data": {
      "text/html": [
       "<div>\n",
       "<style scoped>\n",
       "    .dataframe tbody tr th:only-of-type {\n",
       "        vertical-align: middle;\n",
       "    }\n",
       "\n",
       "    .dataframe tbody tr th {\n",
       "        vertical-align: top;\n",
       "    }\n",
       "\n",
       "    .dataframe thead th {\n",
       "        text-align: right;\n",
       "    }\n",
       "</style>\n",
       "<table border=\"1\" class=\"dataframe\">\n",
       "  <thead>\n",
       "    <tr style=\"text-align: right;\">\n",
       "      <th></th>\n",
       "      <th>is_congestion</th>\n",
       "      <th>speed</th>\n",
       "    </tr>\n",
       "  </thead>\n",
       "  <tbody>\n",
       "    <tr>\n",
       "      <th>0</th>\n",
       "      <td>0</td>\n",
       "      <td>94.208661</td>\n",
       "    </tr>\n",
       "    <tr>\n",
       "      <th>1</th>\n",
       "      <td>0</td>\n",
       "      <td>94.469663</td>\n",
       "    </tr>\n",
       "    <tr>\n",
       "      <th>2</th>\n",
       "      <td>0</td>\n",
       "      <td>92.593407</td>\n",
       "    </tr>\n",
       "    <tr>\n",
       "      <th>3</th>\n",
       "      <td>0</td>\n",
       "      <td>94.501160</td>\n",
       "    </tr>\n",
       "    <tr>\n",
       "      <th>4</th>\n",
       "      <td>0</td>\n",
       "      <td>94.079840</td>\n",
       "    </tr>\n",
       "  </tbody>\n",
       "</table>\n",
       "</div>"
      ],
      "text/plain": [
       "   is_congestion      speed\n",
       "0              0  94.208661\n",
       "1              0  94.469663\n",
       "2              0  92.593407\n",
       "3              0  94.501160\n",
       "4              0  94.079840"
      ]
     },
     "execution_count": 19,
     "metadata": {},
     "output_type": "execute_result"
    }
   ],
   "source": [
    "Y = torakan_data[['is_congestion', 'speed']]\n",
    "torakan_data.drop(columns=['is_congestion', 'speed'])\n",
    "Y.head()"
   ]
  },
  {
   "cell_type": "code",
   "execution_count": 20,
   "metadata": {},
   "outputs": [
    {
     "data": {
      "text/html": [
       "<div>\n",
       "<style scoped>\n",
       "    .dataframe tbody tr th:only-of-type {\n",
       "        vertical-align: middle;\n",
       "    }\n",
       "\n",
       "    .dataframe tbody tr th {\n",
       "        vertical-align: top;\n",
       "    }\n",
       "\n",
       "    .dataframe thead th {\n",
       "        text-align: right;\n",
       "    }\n",
       "</style>\n",
       "<table border=\"1\" class=\"dataframe\">\n",
       "  <thead>\n",
       "    <tr style=\"text-align: right;\">\n",
       "      <th></th>\n",
       "      <th>start_code</th>\n",
       "      <th>end_code</th>\n",
       "      <th>KP</th>\n",
       "      <th>OCC</th>\n",
       "      <th>allCars</th>\n",
       "      <th>speed</th>\n",
       "      <th>is_congestion</th>\n",
       "      <th>date</th>\n",
       "      <th>time</th>\n",
       "    </tr>\n",
       "  </thead>\n",
       "  <tbody>\n",
       "    <tr>\n",
       "      <th>0</th>\n",
       "      <td>1110210</td>\n",
       "      <td>1800006</td>\n",
       "      <td>2.48</td>\n",
       "      <td>1.833333</td>\n",
       "      <td>507</td>\n",
       "      <td>94.208661</td>\n",
       "      <td>0</td>\n",
       "      <td>2021</td>\n",
       "      <td>00:00:00</td>\n",
       "    </tr>\n",
       "    <tr>\n",
       "      <th>1</th>\n",
       "      <td>1110210</td>\n",
       "      <td>1800006</td>\n",
       "      <td>2.48</td>\n",
       "      <td>1.750000</td>\n",
       "      <td>444</td>\n",
       "      <td>94.469663</td>\n",
       "      <td>0</td>\n",
       "      <td>2021</td>\n",
       "      <td>01:00:00</td>\n",
       "    </tr>\n",
       "    <tr>\n",
       "      <th>2</th>\n",
       "      <td>1110210</td>\n",
       "      <td>1800006</td>\n",
       "      <td>2.48</td>\n",
       "      <td>1.500000</td>\n",
       "      <td>363</td>\n",
       "      <td>92.593407</td>\n",
       "      <td>0</td>\n",
       "      <td>2021</td>\n",
       "      <td>02:00:00</td>\n",
       "    </tr>\n",
       "    <tr>\n",
       "      <th>3</th>\n",
       "      <td>1110210</td>\n",
       "      <td>1800006</td>\n",
       "      <td>2.48</td>\n",
       "      <td>1.583333</td>\n",
       "      <td>430</td>\n",
       "      <td>94.501160</td>\n",
       "      <td>0</td>\n",
       "      <td>2021</td>\n",
       "      <td>03:00:00</td>\n",
       "    </tr>\n",
       "    <tr>\n",
       "      <th>4</th>\n",
       "      <td>1110210</td>\n",
       "      <td>1800006</td>\n",
       "      <td>2.48</td>\n",
       "      <td>1.750000</td>\n",
       "      <td>500</td>\n",
       "      <td>94.079840</td>\n",
       "      <td>0</td>\n",
       "      <td>2021</td>\n",
       "      <td>04:00:00</td>\n",
       "    </tr>\n",
       "  </tbody>\n",
       "</table>\n",
       "</div>"
      ],
      "text/plain": [
       "   start_code  end_code    KP       OCC  allCars      speed  is_congestion  \\\n",
       "0     1110210   1800006  2.48  1.833333      507  94.208661              0   \n",
       "1     1110210   1800006  2.48  1.750000      444  94.469663              0   \n",
       "2     1110210   1800006  2.48  1.500000      363  92.593407              0   \n",
       "3     1110210   1800006  2.48  1.583333      430  94.501160              0   \n",
       "4     1110210   1800006  2.48  1.750000      500  94.079840              0   \n",
       "\n",
       "   date      time  \n",
       "0  2021  00:00:00  \n",
       "1  2021  01:00:00  \n",
       "2  2021  02:00:00  \n",
       "3  2021  03:00:00  \n",
       "4  2021  04:00:00  "
      ]
     },
     "execution_count": 20,
     "metadata": {},
     "output_type": "execute_result"
    }
   ],
   "source": [
    "# 日付データは日時と時間で分ける\n",
    "tmp  = pd.to_datetime(torakan_data['datetime']).dt.year\n",
    "torakan_data['date'] = tmp\n",
    "tmp = pd.to_datetime(torakan_data['datetime']).dt.time\n",
    "torakan_data['time'] = tmp\n",
    "torakan_data.drop(columns=['datetime'], inplace=True)\n",
    "torakan_data.head()"
   ]
  },
  {
   "cell_type": "code",
   "execution_count": null,
   "metadata": {},
   "outputs": [],
   "source": [
    "# road_localのデータをマージ\n"
   ]
  }
 ],
 "metadata": {
  "kernelspec": {
   "display_name": "Python 3",
   "language": "python",
   "name": "python3"
  },
  "language_info": {
   "codemirror_mode": {
    "name": "ipython",
    "version": 3
   },
   "file_extension": ".py",
   "mimetype": "text/x-python",
   "name": "python",
   "nbconvert_exporter": "python",
   "pygments_lexer": "ipython3",
   "version": "3.7.3"
  }
 },
 "nbformat": 4,
 "nbformat_minor": 2
}
