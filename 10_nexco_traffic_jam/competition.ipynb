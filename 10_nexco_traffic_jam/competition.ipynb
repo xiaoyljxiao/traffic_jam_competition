{
 "cells": [
  {
   "cell_type": "code",
   "execution_count": null,
   "metadata": {},
   "outputs": [],
   "source": [
<<<<<<< HEAD
<<<<<<< HEAD
    "# road_localのデータをマージ\n"
=======
    "# ファイル編集テスト\n",
    "import pandas as pd\n",
    "import numpy as np"
>>>>>>> 98ef341ae07c81fe97d41f1447f948e34451f296
=======
    "# ファイル編集テスト\n",
    "import pandas as pd\n",
    "import numpy as pd"
>>>>>>> parent of e395711 (提出に必要なpredictor.pyをサンプルコードのまま追加。データ分析を少し進めた)
   ]
  }
 ],
 "metadata": {
  "language_info": {
<<<<<<< HEAD
<<<<<<< HEAD
   "codemirror_mode": {
    "name": "ipython",
    "version": 3
   },
   "file_extension": ".py",
   "mimetype": "text/x-python",
   "name": "python",
   "nbconvert_exporter": "python",
   "pygments_lexer": "ipython3",
=======
   "name": "python",
>>>>>>> 98ef341ae07c81fe97d41f1447f948e34451f296
   "version": "3.7.3"
=======
   "name": "python"
>>>>>>> parent of e395711 (提出に必要なpredictor.pyをサンプルコードのまま追加。データ分析を少し進めた)
  }
 },
 "nbformat": 4,
 "nbformat_minor": 2
}
